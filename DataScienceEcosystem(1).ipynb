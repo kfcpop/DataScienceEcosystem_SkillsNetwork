{
 "cells": [
  {
   "cell_type": "markdown",
   "id": "18fd9088-73ee-496e-9bfc-1a52c3b94a16",
   "metadata": {
    "tags": []
   },
   "source": [
    "# Data Science Tools and Ecosystem"
   ]
  },
  {
   "cell_type": "markdown",
   "id": "d0a352c7-16d4-45c8-96e2-e0052412be83",
   "metadata": {},
   "source": [
    "In this notebook, Data Science Tools and Ecosystem are summarized."
   ]
  },
  {
   "cell_type": "markdown",
   "id": "1d0368f6-7b56-465e-82cd-ebac4df48073",
   "metadata": {},
   "source": [
    "**Objectives:**\n",
    "* List popular languages for Data Science\n",
    "* Common used libraries for Data Science\n",
    "* Data Science Tools\n",
    "* Examples of arithmetic expression in Python"
   ]
  },
  {
   "cell_type": "markdown",
   "id": "beec0d81-c82f-4d97-9442-2eeaa61a27a8",
   "metadata": {},
   "source": [
    "Some of the popular languages that Data Scientists use are:\n",
    "1. R\n",
    "2. Python\n",
    "3. JavaScript\n"
   ]
  },
  {
   "cell_type": "markdown",
   "id": "c2f171dd-fa3a-48fb-80ed-cdebdd127e15",
   "metadata": {},
   "source": [
    "Some of the commonly used libraries used by Data Scientists include: \n",
    "1. NumPy\n",
    "2. ggplot2\n",
    "3. TensorFlow\n"
   ]
  },
  {
   "cell_type": "markdown",
   "id": "ceb5a3d2-1bbc-487d-801c-ba1cf58010aa",
   "metadata": {},
   "source": [
    "| Data Science Tools |\n",
    "|---|\n",
    "| R Studio|\n",
    "| Apache Spark |\n",
    "| Jupyter Notebook|\n"
   ]
  },
  {
   "cell_type": "markdown",
   "id": "6613330f-88ba-4a27-8f7b-54f875fe6dc4",
   "metadata": {},
   "source": [
    "### Below are a few examples of evaluating arithmetic expressions in Python"
   ]
  },
  {
   "cell_type": "code",
   "execution_count": 1,
   "id": "62ee315f-1931-43bc-9b0b-eb749f22ff40",
   "metadata": {
    "tags": []
   },
   "outputs": [
    {
     "data": {
      "text/plain": [
       "17"
      ]
     },
     "execution_count": 1,
     "metadata": {},
     "output_type": "execute_result"
    }
   ],
   "source": [
    "# This a simple arithmetic expression to mutiply then add integers\n",
    "(3*4)+5"
   ]
  },
  {
   "cell_type": "code",
   "execution_count": 12,
   "id": "8f1ffd6e-f6f4-4563-aa75-bdcb2920ed77",
   "metadata": {
    "tags": []
   },
   "outputs": [
    {
     "name": "stdout",
     "output_type": "stream",
     "text": [
      "3.3333333333333335 Hours\n"
     ]
    }
   ],
   "source": [
    "# This will convert 200 minutes to hours by diving by 60\n",
    "\n",
    "x = 200 / 60\n",
    "print (str(x) + \" Hours\")"
   ]
  },
  {
   "cell_type": "markdown",
   "id": "eb08608b-5ca6-4ecf-94fe-f256cc37b4e1",
   "metadata": {},
   "source": [
    "## Author\n",
    "Ivan Navarro-Espinoza"
   ]
  },
  {
  }
 ],
 "metadata": {
  "kernelspec": {
   "display_name": "Python",
   "language": "python",
   "name": "conda-env-python-py"
  },
  "language_info": {
   "codemirror_mode": {
    "name": "ipython",
    "version": 3
   },
   "file_extension": ".py",
   "mimetype": "text/x-python",
   "name": "python",
   "nbconvert_exporter": "python",
   "pygments_lexer": "ipython3",
   "version": "3.7.12"
  }
 },
 "nbformat": 4,
 "nbformat_minor": 5
}
